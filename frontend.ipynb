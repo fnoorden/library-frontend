{
 "cells": [
  {
   "cell_type": "code",
   "execution_count": 1,
   "metadata": {},
   "outputs": [],
   "source": [
    "import cv2\n",
    "import requests\n",
    "import json\n",
    "from pyzbar import pyzbar\n",
    "\n",
    "#launch and run the scanner\n",
    "def read_barcodes(frame, barcode_info):\n",
    "    barcodes = pyzbar.decode(frame)\n",
    "    for barcode in barcodes:\n",
    "        x, y , w, h = barcode.rect\n",
    "        barcode_info = barcode.data.decode('utf-8')\n",
    "        cv2.rectangle(frame, (x, y),(x+w, y+h), (0, 255, 0), 2)\n",
    "        font = cv2.FONT_HERSHEY_DUPLEX\n",
    "        cv2.putText(frame, barcode_info, (x + 6, y - 6), font, 2.0, (255, 255, 255), 1)\n",
    "    return frame, barcode_info\n",
    "\n",
    "def call_scanner():\n",
    "    camera = cv2.VideoCapture(0,cv2.CAP_DSHOW)\n",
    "    ret, frame = camera.read()\n",
    "    barcode_info = \"\"\n",
    "    while ret:\n",
    "        ret, frame = camera.read()\n",
    "        frame, barcode_info = read_barcodes(frame, barcode_info)\n",
    "        cv2.imshow('Barcode/QR code reader', frame)\n",
    "        if cv2.waitKey(1) and len(barcode_info) == 13:\n",
    "            break\n",
    "    camera.release()\n",
    "    cv2.destroyAllWindows()\n",
    "    return barcode_info\n"
   ]
  },
  {
   "cell_type": "code",
   "execution_count": 2,
   "metadata": {},
   "outputs": [
    {
     "name": "stdout",
     "output_type": "stream",
     "text": [
      "Scan barcode of the book\n",
      "Try again\n"
     ]
    }
   ],
   "source": [
    "print(\"Scan barcode of the book\")\n",
    "isbn = call_scanner()\n",
    "good_isbn = input(\"Is this the right barcode: {} (yes or no)? \".format(isbn))\n",
    "if good_isbn.lower() == \"yes\":\n",
    "    url = \"http://127.0.0.1:5000/add_book/\"\n",
    "    payload = json.dumps({\n",
    "    \"isbn\": isbn\n",
    "    })\n",
    "    headers = {\n",
    "    'Content-Type': 'application/json'\n",
    "    }\n",
    "    response = requests.post(url, headers=headers, data=payload)\n",
    "    response.raise_for_status()\n",
    "    print(response.text)\n",
    "else:\n",
    "    print(\"Try again\")   "
   ]
  }
 ],
 "metadata": {
  "kernelspec": {
   "display_name": "Python 3",
   "language": "python",
   "name": "python3"
  },
  "language_info": {
   "codemirror_mode": {
    "name": "ipython",
    "version": 3
   },
   "file_extension": ".py",
   "mimetype": "text/x-python",
   "name": "python",
   "nbconvert_exporter": "python",
   "pygments_lexer": "ipython3",
   "version": "3.11.4"
  }
 },
 "nbformat": 4,
 "nbformat_minor": 2
}
